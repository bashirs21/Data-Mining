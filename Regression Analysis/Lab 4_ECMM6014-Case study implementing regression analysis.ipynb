{
 "cells": [
  {
   "cell_type": "markdown",
   "metadata": {},
   "source": [
    "# Analyze a survey on the use of dating apps during the Covid lockdown with SciPy\n",
    "*© Colin Conrad and Gabriel Orellana Diaz*\n",
    "\n",
    "This week we will build on our standard Python skills by diving into statistical analysis. In this lab we will replicate some of the results of a recently completed questionnaire study on dating apps using slightly modified data. In this study, 200 Amazon Turk users were asked about their dating app use habits and perception of dating apps (among other things not provided here). We will analyze this data to learn about inferential statistics. This analysis is based on a paper which was published in the 2021 Americas Conference on INformation Systems (AMCIS) and [you can find a copy here](https://colinconrad.com/wp-content/uploads/2021/08/2021_ODiaz-Online_Communities_Dating_Apps.pdf).\n",
    "\n",
    "This is a rich, yet simple dataset designed for research that has not yet been well-studied publicly. If you discover something novel from this data, you would be welcome to publish it--please just cite the original article.\n",
    "\n",
    "# Case online dating apps study\n",
    "Online dating apps are an interesting topic. As evidenced from this study, most people will use a dating app at some point in their lives. However, there is not much published research on the topic of dating app design. The following abstract describes the study that was conducted as per Gabriel Orellana Diaz' Master of Electronic Commerce final project. \n",
    "\n",
    "__Note__: The research ethics protocol was approved by Dalhousie's REB and asked for consent from respondents to share this data for teaching purposes._\n",
    "\n",
    "__Abstract__:\n",
    "\n",
    "The Covid-19 pandemic changed the dynamics of socialization by restricting one of its main avenues: inperson gatherings. This pushed people towards digital technology to fulfill their socialization needs. In this paper, we take steps to explore whether features of online communities can contribute to innovative dating app designs, given how dating app business models currently focus on independent one-on-one interactions. We conducted an exploratory survey of 200 participants concerning dating app use habits, perceptions of dating apps, as well as degrees of trust, social presence, and perceived ease of finding dates using three dating methods. We found that social presence and trust consistently predicted the perceived ease of finding dates for each method, and that the perceived ease of finding dates influenced whether participants reported increased use of the method during Covid-19. Together with the growth in online community participation, these results suggest that dating app platforms might benefit from incorporating social features in their designs.\n",
    "\n",
    "__Keywords__: Online dating, online communities, Covid-19, social presence, trust, information technology use\n",
    "\n",
    "A _special thanks is warranted to Gabriel O. Diaz_ for working with me on this project. Though this script is my own work, Gabriel deserves credit for independently discovering some of these findings using different methods, and for visioning the study, co-creating the methodology, and disseminating the results.\n",
    "\n",
    "**This week, we will achieve the following objectives:**\n",
    "- Prepare data and conduct descriptive analysis\n",
    "- Make an inference from the data\n",
    "- Regression Analysis"
   ]
  },
  {
   "cell_type": "markdown",
   "metadata": {},
   "source": [
    "# Objective 1: Prepare data and conduct descriptive analysis\n",
    "When completing a study that requires inferential statistics, it is important to start by preparing your data and analyzing the distributions. We can start by loading the data into our Python environment, as we did the past two weeks. The only difference from what you have seen before is that we will also import _scipy_. This library is a package made specifically for scientific analysis in Python, and we will use this to conduct our statistical analysis."
   ]
  },
  {
   "cell_type": "code",
   "execution_count": 1,
   "metadata": {},
   "outputs": [
    {
     "name": "stdout",
     "output_type": "stream",
     "text": [
      "Requirement already satisfied: spicy in /Users/samibashir/opt/anaconda3/lib/python3.9/site-packages (0.16.0)\n",
      "Requirement already satisfied: scipy in /Users/samibashir/opt/anaconda3/lib/python3.9/site-packages (from spicy) (1.9.1)\n",
      "Requirement already satisfied: numpy<1.25.0,>=1.18.5 in /Users/samibashir/opt/anaconda3/lib/python3.9/site-packages (from scipy->spicy) (1.21.5)\n",
      "Note: you may need to restart the kernel to use updated packages.\n"
     ]
    }
   ],
   "source": [
    "pip install spicy"
   ]
  },
  {
   "cell_type": "code",
   "execution_count": 2,
   "metadata": {},
   "outputs": [],
   "source": [
    "import numpy as np\n",
    "import pandas as pd\n",
    "import matplotlib.pyplot as plt\n",
    "import seaborn as sns # provides a high-level interface for drawing attractive and informative statistical graphics\n",
    "\n",
    "from scipy import stats # the scipy stats module\n",
    "\n",
    "sns.set_theme() # set seaborn\n",
    "\n",
    "raw_data = pd.read_csv(\"Lab4_dating_apps_survey.csv\") "
   ]
  },
  {
   "cell_type": "markdown",
   "metadata": {},
   "source": [
    "### Clean the data\n",
    "Let's start by describing the data. The first thing that you will notice is that the data consists of a series of answers to questions. These data fall into three types:\n",
    "- Nominal variables (e.g. gender has the values [\"Man\", \"Woman\", \"Non-binary\" and \"Prefer not to disclose\"])\n",
    "- Binary variables (e.g. Q3_tinder has the values [0,1] denoting whether the user used Tinder)\n",
    "- Continuous variables (e.g. Q13 has values from 1 to 7, denoting a Likert scale from \"strongly disagree\" to \"strongly agree\".\n",
    "\n",
    "We can use `describe()` to interpret the binary and continuous responses. We will see that the data is structured with labels that are not terribly helpful. This is because they were labelled this way in Qualtrics, the software used to collect the data."
   ]
  },
  {
   "cell_type": "code",
   "execution_count": 3,
   "metadata": {},
   "outputs": [
    {
     "data": {
      "text/html": [
       "<div>\n",
       "<style scoped>\n",
       "    .dataframe tbody tr th:only-of-type {\n",
       "        vertical-align: middle;\n",
       "    }\n",
       "\n",
       "    .dataframe tbody tr th {\n",
       "        vertical-align: top;\n",
       "    }\n",
       "\n",
       "    .dataframe thead th {\n",
       "        text-align: right;\n",
       "    }\n",
       "</style>\n",
       "<table border=\"1\" class=\"dataframe\">\n",
       "  <thead>\n",
       "    <tr style=\"text-align: right;\">\n",
       "      <th></th>\n",
       "      <th>Q3_tinder</th>\n",
       "      <th>Q3_bumble</th>\n",
       "      <th>Q3_match</th>\n",
       "      <th>Q3_pof</th>\n",
       "      <th>Q3_okcupid</th>\n",
       "      <th>Q3_hinge</th>\n",
       "      <th>Q3_clover</th>\n",
       "      <th>Q3_grindr</th>\n",
       "      <th>Q3_coffeebean</th>\n",
       "      <th>Q3_meetme</th>\n",
       "      <th>...</th>\n",
       "      <th>Q5_entertainment</th>\n",
       "      <th>Q5_other</th>\n",
       "      <th>Q5_never_used</th>\n",
       "      <th>Q13</th>\n",
       "      <th>Q20</th>\n",
       "      <th>Q27</th>\n",
       "      <th>Q28</th>\n",
       "      <th>Q29</th>\n",
       "      <th>Q30</th>\n",
       "      <th>Random ID</th>\n",
       "    </tr>\n",
       "  </thead>\n",
       "  <tbody>\n",
       "    <tr>\n",
       "      <th>count</th>\n",
       "      <td>200.000000</td>\n",
       "      <td>200.000000</td>\n",
       "      <td>200.000000</td>\n",
       "      <td>200.00000</td>\n",
       "      <td>200.000000</td>\n",
       "      <td>200.000000</td>\n",
       "      <td>200.000000</td>\n",
       "      <td>200.000000</td>\n",
       "      <td>200.000000</td>\n",
       "      <td>200.000000</td>\n",
       "      <td>...</td>\n",
       "      <td>200.000000</td>\n",
       "      <td>200.000000</td>\n",
       "      <td>200.000000</td>\n",
       "      <td>200.000000</td>\n",
       "      <td>200.00000</td>\n",
       "      <td>200.000000</td>\n",
       "      <td>199.000000</td>\n",
       "      <td>199.000000</td>\n",
       "      <td>200.000000</td>\n",
       "      <td>200.000000</td>\n",
       "    </tr>\n",
       "    <tr>\n",
       "      <th>mean</th>\n",
       "      <td>0.590000</td>\n",
       "      <td>0.245000</td>\n",
       "      <td>0.335000</td>\n",
       "      <td>0.32500</td>\n",
       "      <td>0.365000</td>\n",
       "      <td>0.080000</td>\n",
       "      <td>0.010000</td>\n",
       "      <td>0.125000</td>\n",
       "      <td>0.075000</td>\n",
       "      <td>0.140000</td>\n",
       "      <td>...</td>\n",
       "      <td>0.285000</td>\n",
       "      <td>0.150000</td>\n",
       "      <td>0.010000</td>\n",
       "      <td>4.285000</td>\n",
       "      <td>4.41500</td>\n",
       "      <td>3.360000</td>\n",
       "      <td>3.457286</td>\n",
       "      <td>2.422111</td>\n",
       "      <td>4.820000</td>\n",
       "      <td>54749.505000</td>\n",
       "    </tr>\n",
       "    <tr>\n",
       "      <th>std</th>\n",
       "      <td>0.493068</td>\n",
       "      <td>0.431166</td>\n",
       "      <td>0.473175</td>\n",
       "      <td>0.46955</td>\n",
       "      <td>0.482638</td>\n",
       "      <td>0.271974</td>\n",
       "      <td>0.099748</td>\n",
       "      <td>0.331549</td>\n",
       "      <td>0.264052</td>\n",
       "      <td>0.347858</td>\n",
       "      <td>...</td>\n",
       "      <td>0.452547</td>\n",
       "      <td>0.357967</td>\n",
       "      <td>0.099748</td>\n",
       "      <td>1.605197</td>\n",
       "      <td>1.61736</td>\n",
       "      <td>1.799051</td>\n",
       "      <td>1.863237</td>\n",
       "      <td>1.732842</td>\n",
       "      <td>1.700606</td>\n",
       "      <td>25625.318515</td>\n",
       "    </tr>\n",
       "    <tr>\n",
       "      <th>min</th>\n",
       "      <td>0.000000</td>\n",
       "      <td>0.000000</td>\n",
       "      <td>0.000000</td>\n",
       "      <td>0.00000</td>\n",
       "      <td>0.000000</td>\n",
       "      <td>0.000000</td>\n",
       "      <td>0.000000</td>\n",
       "      <td>0.000000</td>\n",
       "      <td>0.000000</td>\n",
       "      <td>0.000000</td>\n",
       "      <td>...</td>\n",
       "      <td>0.000000</td>\n",
       "      <td>0.000000</td>\n",
       "      <td>0.000000</td>\n",
       "      <td>1.000000</td>\n",
       "      <td>1.00000</td>\n",
       "      <td>1.000000</td>\n",
       "      <td>1.000000</td>\n",
       "      <td>1.000000</td>\n",
       "      <td>1.000000</td>\n",
       "      <td>10261.000000</td>\n",
       "    </tr>\n",
       "    <tr>\n",
       "      <th>25%</th>\n",
       "      <td>0.000000</td>\n",
       "      <td>0.000000</td>\n",
       "      <td>0.000000</td>\n",
       "      <td>0.00000</td>\n",
       "      <td>0.000000</td>\n",
       "      <td>0.000000</td>\n",
       "      <td>0.000000</td>\n",
       "      <td>0.000000</td>\n",
       "      <td>0.000000</td>\n",
       "      <td>0.000000</td>\n",
       "      <td>...</td>\n",
       "      <td>0.000000</td>\n",
       "      <td>0.000000</td>\n",
       "      <td>0.000000</td>\n",
       "      <td>3.000000</td>\n",
       "      <td>3.00000</td>\n",
       "      <td>2.000000</td>\n",
       "      <td>2.000000</td>\n",
       "      <td>1.000000</td>\n",
       "      <td>4.000000</td>\n",
       "      <td>33293.250000</td>\n",
       "    </tr>\n",
       "    <tr>\n",
       "      <th>50%</th>\n",
       "      <td>1.000000</td>\n",
       "      <td>0.000000</td>\n",
       "      <td>0.000000</td>\n",
       "      <td>0.00000</td>\n",
       "      <td>0.000000</td>\n",
       "      <td>0.000000</td>\n",
       "      <td>0.000000</td>\n",
       "      <td>0.000000</td>\n",
       "      <td>0.000000</td>\n",
       "      <td>0.000000</td>\n",
       "      <td>...</td>\n",
       "      <td>0.000000</td>\n",
       "      <td>0.000000</td>\n",
       "      <td>0.000000</td>\n",
       "      <td>5.000000</td>\n",
       "      <td>5.00000</td>\n",
       "      <td>3.000000</td>\n",
       "      <td>3.000000</td>\n",
       "      <td>2.000000</td>\n",
       "      <td>5.000000</td>\n",
       "      <td>56296.000000</td>\n",
       "    </tr>\n",
       "    <tr>\n",
       "      <th>75%</th>\n",
       "      <td>1.000000</td>\n",
       "      <td>0.000000</td>\n",
       "      <td>1.000000</td>\n",
       "      <td>1.00000</td>\n",
       "      <td>1.000000</td>\n",
       "      <td>0.000000</td>\n",
       "      <td>0.000000</td>\n",
       "      <td>0.000000</td>\n",
       "      <td>0.000000</td>\n",
       "      <td>0.000000</td>\n",
       "      <td>...</td>\n",
       "      <td>1.000000</td>\n",
       "      <td>0.000000</td>\n",
       "      <td>0.000000</td>\n",
       "      <td>5.000000</td>\n",
       "      <td>6.00000</td>\n",
       "      <td>5.000000</td>\n",
       "      <td>5.000000</td>\n",
       "      <td>3.000000</td>\n",
       "      <td>6.000000</td>\n",
       "      <td>75866.500000</td>\n",
       "    </tr>\n",
       "    <tr>\n",
       "      <th>max</th>\n",
       "      <td>1.000000</td>\n",
       "      <td>1.000000</td>\n",
       "      <td>1.000000</td>\n",
       "      <td>1.00000</td>\n",
       "      <td>1.000000</td>\n",
       "      <td>1.000000</td>\n",
       "      <td>1.000000</td>\n",
       "      <td>1.000000</td>\n",
       "      <td>1.000000</td>\n",
       "      <td>1.000000</td>\n",
       "      <td>...</td>\n",
       "      <td>1.000000</td>\n",
       "      <td>1.000000</td>\n",
       "      <td>1.000000</td>\n",
       "      <td>7.000000</td>\n",
       "      <td>7.00000</td>\n",
       "      <td>7.000000</td>\n",
       "      <td>7.000000</td>\n",
       "      <td>7.000000</td>\n",
       "      <td>7.000000</td>\n",
       "      <td>99685.000000</td>\n",
       "    </tr>\n",
       "  </tbody>\n",
       "</table>\n",
       "<p>8 rows × 29 columns</p>\n",
       "</div>"
      ],
      "text/plain": [
       "        Q3_tinder   Q3_bumble    Q3_match     Q3_pof  Q3_okcupid    Q3_hinge  \\\n",
       "count  200.000000  200.000000  200.000000  200.00000  200.000000  200.000000   \n",
       "mean     0.590000    0.245000    0.335000    0.32500    0.365000    0.080000   \n",
       "std      0.493068    0.431166    0.473175    0.46955    0.482638    0.271974   \n",
       "min      0.000000    0.000000    0.000000    0.00000    0.000000    0.000000   \n",
       "25%      0.000000    0.000000    0.000000    0.00000    0.000000    0.000000   \n",
       "50%      1.000000    0.000000    0.000000    0.00000    0.000000    0.000000   \n",
       "75%      1.000000    0.000000    1.000000    1.00000    1.000000    0.000000   \n",
       "max      1.000000    1.000000    1.000000    1.00000    1.000000    1.000000   \n",
       "\n",
       "        Q3_clover   Q3_grindr  Q3_coffeebean   Q3_meetme  ...  \\\n",
       "count  200.000000  200.000000     200.000000  200.000000  ...   \n",
       "mean     0.010000    0.125000       0.075000    0.140000  ...   \n",
       "std      0.099748    0.331549       0.264052    0.347858  ...   \n",
       "min      0.000000    0.000000       0.000000    0.000000  ...   \n",
       "25%      0.000000    0.000000       0.000000    0.000000  ...   \n",
       "50%      0.000000    0.000000       0.000000    0.000000  ...   \n",
       "75%      0.000000    0.000000       0.000000    0.000000  ...   \n",
       "max      1.000000    1.000000       1.000000    1.000000  ...   \n",
       "\n",
       "       Q5_entertainment    Q5_other  Q5_never_used         Q13        Q20  \\\n",
       "count        200.000000  200.000000     200.000000  200.000000  200.00000   \n",
       "mean           0.285000    0.150000       0.010000    4.285000    4.41500   \n",
       "std            0.452547    0.357967       0.099748    1.605197    1.61736   \n",
       "min            0.000000    0.000000       0.000000    1.000000    1.00000   \n",
       "25%            0.000000    0.000000       0.000000    3.000000    3.00000   \n",
       "50%            0.000000    0.000000       0.000000    5.000000    5.00000   \n",
       "75%            1.000000    0.000000       0.000000    5.000000    6.00000   \n",
       "max            1.000000    1.000000       1.000000    7.000000    7.00000   \n",
       "\n",
       "              Q27         Q28         Q29         Q30     Random ID  \n",
       "count  200.000000  199.000000  199.000000  200.000000    200.000000  \n",
       "mean     3.360000    3.457286    2.422111    4.820000  54749.505000  \n",
       "std      1.799051    1.863237    1.732842    1.700606  25625.318515  \n",
       "min      1.000000    1.000000    1.000000    1.000000  10261.000000  \n",
       "25%      2.000000    2.000000    1.000000    4.000000  33293.250000  \n",
       "50%      3.000000    3.000000    2.000000    5.000000  56296.000000  \n",
       "75%      5.000000    5.000000    3.000000    6.000000  75866.500000  \n",
       "max      7.000000    7.000000    7.000000    7.000000  99685.000000  \n",
       "\n",
       "[8 rows x 29 columns]"
      ]
     },
     "execution_count": 3,
     "metadata": {},
     "output_type": "execute_result"
    }
   ],
   "source": [
    "raw_data.describe()"
   ]
  },
  {
   "cell_type": "markdown",
   "metadata": {},
   "source": [
    "Let's clean these up a bit. Using a new data frame called `processed` we can assign more meaningful headers to the data, rather than `Q1, Q2... etc`. The code below adds various new labels to the processed data frame. Comments are given to help you interpret the data. We also generate the data `head` at the end of the block for context."
   ]
  },
  {
   "cell_type": "code",
   "execution_count": 4,
   "metadata": {},
   "outputs": [
    {
     "data": {
      "text/html": [
       "<div>\n",
       "<style scoped>\n",
       "    .dataframe tbody tr th:only-of-type {\n",
       "        vertical-align: middle;\n",
       "    }\n",
       "\n",
       "    .dataframe tbody tr th {\n",
       "        vertical-align: top;\n",
       "    }\n",
       "\n",
       "    .dataframe thead th {\n",
       "        text-align: right;\n",
       "    }\n",
       "</style>\n",
       "<table border=\"1\" class=\"dataframe\">\n",
       "  <thead>\n",
       "    <tr style=\"text-align: right;\">\n",
       "      <th></th>\n",
       "      <th>age</th>\n",
       "      <th>gender</th>\n",
       "      <th>apps_used</th>\n",
       "      <th>apps_purposes</th>\n",
       "      <th>apps_conversations</th>\n",
       "      <th>conversations_in_person</th>\n",
       "      <th>app_ease</th>\n",
       "      <th>physical_ease</th>\n",
       "      <th>online_ease</th>\n",
       "      <th>covid_apps_more</th>\n",
       "      <th>covid_physical_more</th>\n",
       "      <th>covid_online_more</th>\n",
       "    </tr>\n",
       "  </thead>\n",
       "  <tbody>\n",
       "    <tr>\n",
       "      <th>0</th>\n",
       "      <td>35-44</td>\n",
       "      <td>Man</td>\n",
       "      <td>Tinder,Plenty of Fish</td>\n",
       "      <td>Finding short-term romantic or sexual relation...</td>\n",
       "      <td>Occasionally</td>\n",
       "      <td>Occasionally</td>\n",
       "      <td>7</td>\n",
       "      <td>7</td>\n",
       "      <td>5</td>\n",
       "      <td>1.0</td>\n",
       "      <td>1.0</td>\n",
       "      <td>7</td>\n",
       "    </tr>\n",
       "    <tr>\n",
       "      <th>1</th>\n",
       "      <td>25-34</td>\n",
       "      <td>Man</td>\n",
       "      <td>Plenty of Fish</td>\n",
       "      <td>Finding long-term romantic or sexual relations...</td>\n",
       "      <td>Rarely</td>\n",
       "      <td>Rarely</td>\n",
       "      <td>3</td>\n",
       "      <td>5</td>\n",
       "      <td>5</td>\n",
       "      <td>7.0</td>\n",
       "      <td>7.0</td>\n",
       "      <td>7</td>\n",
       "    </tr>\n",
       "    <tr>\n",
       "      <th>2</th>\n",
       "      <td>25-34</td>\n",
       "      <td>Woman</td>\n",
       "      <td>Tinder,Bumble,Match,Plenty of Fish,OKCupid,Grindr</td>\n",
       "      <td>Finding short-term romantic or sexual relation...</td>\n",
       "      <td>Occasionally</td>\n",
       "      <td>Occasionally</td>\n",
       "      <td>5</td>\n",
       "      <td>7</td>\n",
       "      <td>6</td>\n",
       "      <td>6.0</td>\n",
       "      <td>6.0</td>\n",
       "      <td>6</td>\n",
       "    </tr>\n",
       "    <tr>\n",
       "      <th>3</th>\n",
       "      <td>35-44</td>\n",
       "      <td>Man</td>\n",
       "      <td>Tinder</td>\n",
       "      <td>Finding short-term romantic or sexual relation...</td>\n",
       "      <td>Occasionally</td>\n",
       "      <td>Rarely</td>\n",
       "      <td>2</td>\n",
       "      <td>1</td>\n",
       "      <td>1</td>\n",
       "      <td>1.0</td>\n",
       "      <td>1.0</td>\n",
       "      <td>5</td>\n",
       "    </tr>\n",
       "    <tr>\n",
       "      <th>4</th>\n",
       "      <td>25-34</td>\n",
       "      <td>Man</td>\n",
       "      <td>Tinder,Bumble,OKCupid</td>\n",
       "      <td>Finding short-term romantic or sexual relation...</td>\n",
       "      <td>Rarely</td>\n",
       "      <td>Occasionally</td>\n",
       "      <td>3</td>\n",
       "      <td>4</td>\n",
       "      <td>2</td>\n",
       "      <td>1.0</td>\n",
       "      <td>1.0</td>\n",
       "      <td>6</td>\n",
       "    </tr>\n",
       "  </tbody>\n",
       "</table>\n",
       "</div>"
      ],
      "text/plain": [
       "     age gender                                          apps_used  \\\n",
       "0  35-44    Man                              Tinder,Plenty of Fish   \n",
       "1  25-34    Man                                     Plenty of Fish   \n",
       "2  25-34  Woman  Tinder,Bumble,Match,Plenty of Fish,OKCupid,Grindr   \n",
       "3  35-44    Man                                             Tinder   \n",
       "4  25-34    Man                              Tinder,Bumble,OKCupid   \n",
       "\n",
       "                                       apps_purposes apps_conversations  \\\n",
       "0  Finding short-term romantic or sexual relation...       Occasionally   \n",
       "1  Finding long-term romantic or sexual relations...             Rarely   \n",
       "2  Finding short-term romantic or sexual relation...       Occasionally   \n",
       "3  Finding short-term romantic or sexual relation...       Occasionally   \n",
       "4  Finding short-term romantic or sexual relation...             Rarely   \n",
       "\n",
       "  conversations_in_person  app_ease  physical_ease  online_ease  \\\n",
       "0            Occasionally         7              7            5   \n",
       "1                  Rarely         3              5            5   \n",
       "2            Occasionally         5              7            6   \n",
       "3                  Rarely         2              1            1   \n",
       "4            Occasionally         3              4            2   \n",
       "\n",
       "   covid_apps_more  covid_physical_more  covid_online_more  \n",
       "0              1.0                  1.0                  7  \n",
       "1              7.0                  7.0                  7  \n",
       "2              6.0                  6.0                  6  \n",
       "3              1.0                  1.0                  5  \n",
       "4              1.0                  1.0                  6  "
      ]
     },
     "execution_count": 4,
     "metadata": {},
     "output_type": "execute_result"
    }
   ],
   "source": [
    "processed = pd.DataFrame() # create a new data frame for processed data\n",
    "\n",
    "# What is your age? \n",
    "processed['age'] = raw_data['Q1']\n",
    "\n",
    "# Which of the following best describes your gender\n",
    "processed['gender'] = raw_data['Q2']\n",
    "\n",
    "# Which of the following dating apps have you used?\n",
    "processed['apps_used'] = raw_data['Q3']\n",
    "\n",
    "# Q4 is missing because it was a dummy used for instructional purposes\n",
    "\n",
    "# What are main purposes that motivate you to use dating apps currently or in the past?\n",
    "processed['apps_purposes'] = raw_data['Q5']\n",
    "\n",
    "# Of the matches with other people generated by the dating apps that you have used, which percentage of matches result in a conversation\n",
    "processed['apps_conversations'] = raw_data['Q6']\n",
    "\n",
    "# Of the matches with other people that resulted in conversations, how often did the match result in an in-person date? \n",
    "processed['conversations_in_person'] = raw_data['Q7']\n",
    "\n",
    "# It is easy to meet dates using a dating app (strongly disagree to strongly agree).\n",
    "processed['app_ease'] = raw_data['Q13']\n",
    "\n",
    "# It is easy to meet dates when I am in physical group settings (e.g. parties, bars, restaurants) (strongly disagree to strongly agree)\n",
    "processed['physical_ease'] = raw_data['Q20']\n",
    "\n",
    "# It is easy to meet dates when I am in an online community (strongly disagree to strongly agree).\n",
    "processed['online_ease'] = raw_data['Q27']\n",
    "\n",
    "# Due to COVID-19 I am [insert method here] more than I used to.\n",
    "processed['covid_apps_more'] = raw_data['Q28']\n",
    "processed['covid_physical_more'] = raw_data['Q29']\n",
    "processed['covid_online_more'] = raw_data['Q30']\n",
    "\n",
    "#save the data in csv file\n",
    "processed.to_csv('Processed_datingAppSurvey.csv')\n",
    "# Note: questions 8 - 12, 14-19, and 21-26 concerned social presence, trust and dating apps, excluded from this week's lab\n",
    "\n",
    "processed.head()"
   ]
  },
  {
   "cell_type": "markdown",
   "metadata": {},
   "source": [
    "One thing that you will noticed is that some of these questions were multi-select (e.g. `apps_used`). We will cover these in Objective 3, in an effort to keep this simpler. Just know that I broke these into binary variables to make it possible to interpret the data. This processing was done on Excel for simplicity.\n",
    "\n",
    "Finally, it is usually a good practice to drop the responses that were missing at least one of the questions. Pandas lets us do this with the `.dropna()` method. In this dataset, there were three missing responses, so data from three participants are dropped."
   ]
  },
  {
   "cell_type": "code",
   "execution_count": 5,
   "metadata": {},
   "outputs": [
    {
     "data": {
      "text/html": [
       "<div>\n",
       "<style scoped>\n",
       "    .dataframe tbody tr th:only-of-type {\n",
       "        vertical-align: middle;\n",
       "    }\n",
       "\n",
       "    .dataframe tbody tr th {\n",
       "        vertical-align: top;\n",
       "    }\n",
       "\n",
       "    .dataframe thead th {\n",
       "        text-align: right;\n",
       "    }\n",
       "</style>\n",
       "<table border=\"1\" class=\"dataframe\">\n",
       "  <thead>\n",
       "    <tr style=\"text-align: right;\">\n",
       "      <th></th>\n",
       "      <th>app_ease</th>\n",
       "      <th>physical_ease</th>\n",
       "      <th>online_ease</th>\n",
       "      <th>covid_apps_more</th>\n",
       "      <th>covid_physical_more</th>\n",
       "      <th>covid_online_more</th>\n",
       "    </tr>\n",
       "  </thead>\n",
       "  <tbody>\n",
       "    <tr>\n",
       "      <th>count</th>\n",
       "      <td>197.000000</td>\n",
       "      <td>197.000000</td>\n",
       "      <td>197.000000</td>\n",
       "      <td>197.000000</td>\n",
       "      <td>197.000000</td>\n",
       "      <td>197.000000</td>\n",
       "    </tr>\n",
       "    <tr>\n",
       "      <th>mean</th>\n",
       "      <td>4.274112</td>\n",
       "      <td>4.395939</td>\n",
       "      <td>3.335025</td>\n",
       "      <td>3.446701</td>\n",
       "      <td>2.390863</td>\n",
       "      <td>4.802030</td>\n",
       "    </tr>\n",
       "    <tr>\n",
       "      <th>std</th>\n",
       "      <td>1.605472</td>\n",
       "      <td>1.614849</td>\n",
       "      <td>1.801202</td>\n",
       "      <td>1.863575</td>\n",
       "      <td>1.706685</td>\n",
       "      <td>1.704255</td>\n",
       "    </tr>\n",
       "    <tr>\n",
       "      <th>min</th>\n",
       "      <td>1.000000</td>\n",
       "      <td>1.000000</td>\n",
       "      <td>1.000000</td>\n",
       "      <td>1.000000</td>\n",
       "      <td>1.000000</td>\n",
       "      <td>1.000000</td>\n",
       "    </tr>\n",
       "    <tr>\n",
       "      <th>25%</th>\n",
       "      <td>3.000000</td>\n",
       "      <td>3.000000</td>\n",
       "      <td>2.000000</td>\n",
       "      <td>2.000000</td>\n",
       "      <td>1.000000</td>\n",
       "      <td>4.000000</td>\n",
       "    </tr>\n",
       "    <tr>\n",
       "      <th>50%</th>\n",
       "      <td>5.000000</td>\n",
       "      <td>5.000000</td>\n",
       "      <td>3.000000</td>\n",
       "      <td>3.000000</td>\n",
       "      <td>2.000000</td>\n",
       "      <td>5.000000</td>\n",
       "    </tr>\n",
       "    <tr>\n",
       "      <th>75%</th>\n",
       "      <td>5.000000</td>\n",
       "      <td>6.000000</td>\n",
       "      <td>5.000000</td>\n",
       "      <td>5.000000</td>\n",
       "      <td>3.000000</td>\n",
       "      <td>6.000000</td>\n",
       "    </tr>\n",
       "    <tr>\n",
       "      <th>max</th>\n",
       "      <td>7.000000</td>\n",
       "      <td>7.000000</td>\n",
       "      <td>7.000000</td>\n",
       "      <td>7.000000</td>\n",
       "      <td>7.000000</td>\n",
       "      <td>7.000000</td>\n",
       "    </tr>\n",
       "  </tbody>\n",
       "</table>\n",
       "</div>"
      ],
      "text/plain": [
       "         app_ease  physical_ease  online_ease  covid_apps_more  \\\n",
       "count  197.000000     197.000000   197.000000       197.000000   \n",
       "mean     4.274112       4.395939     3.335025         3.446701   \n",
       "std      1.605472       1.614849     1.801202         1.863575   \n",
       "min      1.000000       1.000000     1.000000         1.000000   \n",
       "25%      3.000000       3.000000     2.000000         2.000000   \n",
       "50%      5.000000       5.000000     3.000000         3.000000   \n",
       "75%      5.000000       6.000000     5.000000         5.000000   \n",
       "max      7.000000       7.000000     7.000000         7.000000   \n",
       "\n",
       "       covid_physical_more  covid_online_more  \n",
       "count           197.000000         197.000000  \n",
       "mean              2.390863           4.802030  \n",
       "std               1.706685           1.704255  \n",
       "min               1.000000           1.000000  \n",
       "25%               1.000000           4.000000  \n",
       "50%               2.000000           5.000000  \n",
       "75%               3.000000           6.000000  \n",
       "max               7.000000           7.000000  "
      ]
     },
     "execution_count": 5,
     "metadata": {},
     "output_type": "execute_result"
    }
   ],
   "source": [
    "processed = processed.dropna() # drop all participants who did not answer at least one question\n",
    "\n",
    "processed.describe() # 197 responses remain"
   ]
  },
  {
   "cell_type": "code",
   "execution_count": 6,
   "metadata": {},
   "outputs": [
    {
     "data": {
      "text/plain": [
       "count    197.000000\n",
       "mean       4.274112\n",
       "std        1.605472\n",
       "min        1.000000\n",
       "25%        3.000000\n",
       "50%        5.000000\n",
       "75%        5.000000\n",
       "max        7.000000\n",
       "Name: app_ease, dtype: float64"
      ]
     },
     "execution_count": 6,
     "metadata": {},
     "output_type": "execute_result"
    }
   ],
   "source": [
    "processed.app_ease.describe()"
   ]
  },
  {
   "cell_type": "code",
   "execution_count": 7,
   "metadata": {},
   "outputs": [
    {
     "data": {
      "text/plain": [
       "array([7, 3, 5, 2, 4, 6, 1])"
      ]
     },
     "execution_count": 7,
     "metadata": {},
     "output_type": "execute_result"
    }
   ],
   "source": [
    "processed.app_ease.unique()"
   ]
  },
  {
   "cell_type": "markdown",
   "metadata": {},
   "source": [
    "### Exploring distributions\n",
    "One of the most valuable types of analysis that we can do is explore descriptive statistics. Descriptive statistics (like descriptive analytics) explores the data and provides insights about it. Tools like mean, median and mode are examples of descriptive statistics. \n",
    "\n",
    "Another method commonly used are histograms. Similar to bar charts, histograms visualize nominal values on one axis and their measure on the other. However unlike bar graphs, their measures are data frequencies and their nominal values are collections called `bins`. In the table below, we visualize seven bins-- one for each of the values of the Likert scale on the \"ease of finding dates\" in physical group settings. We see a distribution that looks close to the \"normal\" distribution, which is interesting!"
   ]
  },
  {
   "cell_type": "markdown",
   "metadata": {},
   "source": [
    "#### Ease of finding dates in physical group settings"
   ]
  },
  {
   "cell_type": "code",
   "execution_count": 8,
   "metadata": {},
   "outputs": [
    {
     "data": {
      "text/plain": [
       "<AxesSubplot:>"
      ]
     },
     "execution_count": 8,
     "metadata": {},
     "output_type": "execute_result"
    },
    {
     "data": {
      "image/png": "[encoded data removed]",
      "text/plain": [
       "<Figure size 640x480 with 1 Axes>"
      ]
     },
     "metadata": {},
     "output_type": "display_data"
    }
   ],
   "source": [
    "processed['physical_ease'].hist(bins=7)"
   ]
  },
  {
   "cell_type": "markdown",
   "metadata": {},
   "source": [
    "#### Distribution of ages\n",
    "We can also easily create histograms to observe the frequencies of predefined nominal responses, such as the age and gender categories. However, as Python isn't that smart, and is not able to figure out the numerical order of these strings."
   ]
  },
  {
   "cell_type": "code",
   "execution_count": 9,
   "metadata": {},
   "outputs": [
    {
     "data": {
      "image/png": "[encoded data removed]",
      "text/plain": [
       "<Figure size 640x480 with 1 Axes>"
      ]
     },
     "metadata": {},
     "output_type": "display_data"
    }
   ],
   "source": [
    "processed['age'].hist(bins=5);"
   ]
  },
  {
   "cell_type": "markdown",
   "metadata": {},
   "source": [
    "Instead, we can use the `sort_values` method to re-order the data, telling a clearer picture."
   ]
  },
  {
   "cell_type": "code",
   "execution_count": 10,
   "metadata": {},
   "outputs": [
    {
     "data": {
      "text/plain": [
       "<AxesSubplot:>"
      ]
     },
     "execution_count": 10,
     "metadata": {},
     "output_type": "execute_result"
    },
    {
     "data": {
      "image/png": "[encoded data removed]",
      "text/plain": [
       "<Figure size 640x480 with 1 Axes>"
      ]
     },
     "metadata": {},
     "output_type": "display_data"
    }
   ],
   "source": [
    "sorted_data = processed['age'].sort_values(ascending=True)\n",
    "sorted_data.hist(bins=5)"
   ]
  },
  {
   "cell_type": "markdown",
   "metadata": {},
   "source": [
    "<h2> Challenge Question 1\n",
    "\n",
    "#### Create histogram to observe the distribution of gender\n"
   ]
  },
  {
   "cell_type": "code",
   "execution_count": 11,
   "metadata": {},
   "outputs": [
    {
     "data": {
      "text/plain": [
       "array(['Man', 'Woman', 'Non-binary', 'Prefer not to disclose'],\n",
       "      dtype=object)"
      ]
     },
     "execution_count": 11,
     "metadata": {},
     "output_type": "execute_result"
    }
   ],
   "source": [
    "processed.gender.unique()"
   ]
  },
  {
   "cell_type": "code",
   "execution_count": 12,
   "metadata": {},
   "outputs": [
    {
     "data": {
      "image/png": "[encoded data removed]",
      "text/plain": [
       "<Figure size 640x480 with 1 Axes>"
      ]
     },
     "metadata": {},
     "output_type": "display_data"
    }
   ],
   "source": [
    "processed['gender'].hist(bins=4);"
   ]
  },
  {
   "cell_type": "markdown",
   "metadata": {},
   "source": [
    "#### Combining histograms\n",
    "Finally, we can also compare two histograms on one graph, to understand whether their distributions were different. In the graph below, we compare the \"ease of finding dates in physical group settings\" with the \"ease of finding dates in online communities\". We can see that the distributions are quite different. As we will see in Objective 2, these distributions are statistically different, leading us to infer that respondents were more likely to believe that it is harder to find dates in online communities."
   ]
  },
  {
   "cell_type": "code",
   "execution_count": 13,
   "metadata": {},
   "outputs": [
    {
     "data": {
      "text/plain": [
       "<AxesSubplot:ylabel='Frequency'>"
      ]
     },
     "execution_count": 13,
     "metadata": {},
     "output_type": "execute_result"
    },
    {
     "data": {
      "image/png": "[encoded data removed]",
      "text/plain": [
       "<Figure size 640x480 with 1 Axes>"
      ]
     },
     "metadata": {},
     "output_type": "display_data"
    }
   ],
   "source": [
    "comparison = processed[['physical_ease','online_ease']]\n",
    "comparison.plot.hist(bins=7, alpha=0.5)"
   ]
  },
  {
   "cell_type": "markdown",
   "metadata": {},
   "source": [
    "As we have seen before, we can also retrieve the means of these responses. These will come in handy later."
   ]
  },
  {
   "cell_type": "code",
   "execution_count": 14,
   "metadata": {},
   "outputs": [
    {
     "name": "stdout",
     "output_type": "stream",
     "text": [
      "Ease of finding dates (in-person): 4.4, Ease of finding dates (online communities) 3.34\n"
     ]
    }
   ],
   "source": [
    "physical_mean = comparison['physical_ease'].mean()\n",
    "community_mean = comparison['online_ease'].mean()\n",
    "\n",
    "print(\"Ease of finding dates (in-person): \" + str(round(physical_mean, 2)) + \", Ease of finding dates (online communities) \" + str(round(community_mean, 2)))"
   ]
  },
  {
   "cell_type": "markdown",
   "metadata": {},
   "source": [
    "## Challenge Question 2  (1.5 points)\n",
    "In addition to investigating \"ease of finding dates\" in online communities and in physical group settings, this survey also asked participants about the ease of finding dates using dating apps. Visualize the distribution of the ease of finding dates using dating apps and the ease of finding dates in physical settings. Also calculate the mean value for the ease of finding dating apps.\n",
    "\n",
    "Are these distributions similar or different? Is the mean higher or lower? Add a comment to explain your view. "
   ]
  },
  {
   "cell_type": "code",
   "execution_count": 22,
   "metadata": {},
   "outputs": [
    {
     "name": "stdout",
     "output_type": "stream",
     "text": [
      "Ease of finding dates (in-person): 4.4, Ease of finding dates (using apps) 4.27\n"
     ]
    }
   ],
   "source": [
    "app_mean = comparison['app_ease'].mean()\n",
    "\n",
    "\n",
    "print(\"Ease of finding dates (in-person): \" + str(round(physical_mean, 2)) + \", Ease of finding dates (using apps) \" + str(round(app_mean, 2))) #compare app and physical setting"
   ]
  },
  {
   "cell_type": "code",
   "execution_count": 23,
   "metadata": {},
   "outputs": [
    {
     "data": {
      "text/plain": [
       "<AxesSubplot:ylabel='Frequency'>"
      ]
     },
     "execution_count": 23,
     "metadata": {},
     "output_type": "execute_result"
    },
    {
     "data": {
      "image/png": "[encoded data removed]",
      "text/plain": [
       "<Figure size 640x480 with 1 Axes>"
      ]
     },
     "metadata": {},
     "output_type": "display_data"
    }
   ],
   "source": [
    "comparison = processed[['physical_ease','app_ease']]\n",
    "comparison.plot.hist(bins=7, alpha=0.5)# visualize the distribution"
   ]
  },
  {
   "cell_type": "code",
   "execution_count": 24,
   "metadata": {},
   "outputs": [],
   "source": [
    "#Dating preferences\n",
    "\n",
    "# The mean value of 'Ease of finding dates in Person' is 4.4\n",
    "# The mean value of 'Ease of finding dates using apps' is 4.27\n",
    "# Data suggests, on average, it might be easier to find dates in person but not by much"
   ]
  },
  {
   "cell_type": "markdown",
   "metadata": {},
   "source": [
    "# Objective 2: Make an inference from the data\n",
    "Descriptive statistics are certainly interesting, though they can only get us so far. Much of the power of scientific reasoning comes from _inference_ or the ability to infer something from the data. \n",
    "\n",
    "At first glance, it can be tempting to simply infer that people find dates in person than when using dating apps. After all, the mean response was _higher_ for the question about meeting in person! But how do you know that this wasn't due to random chance? Are you sure you can make this inference? \n",
    "\n",
    "There's a whole discipline (arguably many disciplines) devoted to answering this exact question, and answering this is outside of the scope of the course. However, we can still explore a few things so that you can get a taste of how this science works.\n",
    "\n",
    "### The 95% margin of error\n",
    "In this study, we sampled responses from 200 participants, which is a sizable number, but will not perfectly represent the whole population. Instead, we have a _sample_ of the real value. It would be desirable to know whether the differences observed in our data accurately represent the real world.\n",
    "\n",
    "Fortunately, statisticians have developed just such techniques and they revolve around _confidence intervals_. Essentially, confidence intervals allow us to know, at a specified level of certainty, whether the data will fall within a range. In social sciences, we use a 95% threshold to determine an acceptable level of certainty. In other words, using high and low confidence intervals we can know with 95% certainty where the real value of a mean lies. This is why when you hear about political polls, they always give the qualifier: \"between XX and YY values, 19 times out of 20\"-- this is a confidence interval!\n",
    "\n",
    "There is a lot we can do with confidence intervals, though perhaps most interestingly, you can use them to confidently infer that _two phenomena are different_. This is essentially what Student's t-test does; it compares the distributions of two collections of data and determines the probability that they came from the same source. Using this technique, we can make inferences from our data.\n",
    "### Research Question: Do people perceive it as more difficult to find dates using dating apps than through groups or online communities?\n",
    "This leads us to a research question. In this dataset, we explored whether people perceived it as easier to find dates using dating apps than through physical groups or online communities. We can answer this question using confidence intervals and the t-test."
   ]
  },
  {
   "cell_type": "markdown",
   "metadata": {},
   "source": [
    "### Calculating mean and confidence intervals (CI)\n",
    "Let's start by calculating mean and confidence intervals. Scipy is a library (or [ecosystem, according to them](https://www.scipy.org/)) that  provides many libraries that support scientific analysis. The scipy stats library has a lot of methods that will do the heavy lifting for us. For instance, we can use `stats.sem()` to calculate the standard error. The catch is that this environment does not like data frames, so we will have to convert it to numpy.\n",
    "\n",
    "The function below can help further simplify all of this. This handy function was originally generated by [gcamargo (2018)](https://stackoverflow.com/questions/15033511/compute-a-confidence-interval-from-sample-data) on Stackoverflow. I added a few comments to help explain it. We can use this to calculate the confidence intervals of our \"ease of finding dates\" responses."
   ]
  },
  {
   "cell_type": "code",
   "execution_count": 25,
   "metadata": {},
   "outputs": [],
   "source": [
    "def mean_confidence_interval(data, confidence=0.95):\n",
    "    a = 1.0 * np.array(data) # convert our data frame into a numpy array\n",
    "    n = len(a) # get the number of observations\n",
    "    m, se = np.mean(a), stats.sem(a) # mean and standard error are calculated using scipy\n",
    "    h = se * stats.t.ppf((1 + confidence) / 2., n-1) # the ppf function is for calculating 'percent point' and saves it as h (height)\n",
    "    return m, m-h, m+h # mean, low bound CI, high bound CI\n",
    "\n",
    "\n",
    "# call the function three times for each of the columns of interest\n",
    "app_ease = mean_confidence_interval(processed['app_ease'])\n",
    "physical_ease = mean_confidence_interval(processed['physical_ease'])\n",
    "online_ease = mean_confidence_interval(processed['online_ease'])"
   ]
  },
  {
   "cell_type": "code",
   "execution_count": 26,
   "metadata": {},
   "outputs": [
    {
     "data": {
      "text/plain": [
       "(4.274111675126903, 4.048528003896062, 4.499695346357744)"
      ]
     },
     "execution_count": 26,
     "metadata": {},
     "output_type": "execute_result"
    }
   ],
   "source": [
    "app_ease"
   ]
  },
  {
   "cell_type": "markdown",
   "metadata": {},
   "source": [
    "### Visualize a table with confidence intervals\n",
    "This is good, though we now need to convert this data back into a data frame. The code below manually creates a data frame using the results from the cell above. This is an important step because we can start to see the confidence intervals. \n",
    "\n",
    "**It is clear that we cannot conclude that people perceive it as easier to find dates in physical settings, though we can conclude that they find it _harder_ in online communities**. "
   ]
  },
  {
   "cell_type": "code",
   "execution_count": 27,
   "metadata": {},
   "outputs": [
    {
     "data": {
      "text/html": [
       "<div>\n",
       "<style scoped>\n",
       "    .dataframe tbody tr th:only-of-type {\n",
       "        vertical-align: middle;\n",
       "    }\n",
       "\n",
       "    .dataframe tbody tr th {\n",
       "        vertical-align: top;\n",
       "    }\n",
       "\n",
       "    .dataframe thead th {\n",
       "        text-align: right;\n",
       "    }\n",
       "</style>\n",
       "<table border=\"1\" class=\"dataframe\">\n",
       "  <thead>\n",
       "    <tr style=\"text-align: right;\">\n",
       "      <th></th>\n",
       "      <th>Dating style</th>\n",
       "      <th>Ease of finding dates</th>\n",
       "      <th>CI Low</th>\n",
       "      <th>CI High</th>\n",
       "    </tr>\n",
       "  </thead>\n",
       "  <tbody>\n",
       "    <tr>\n",
       "      <th>0</th>\n",
       "      <td>Dating Apps</td>\n",
       "      <td>4.274112</td>\n",
       "      <td>4.048528</td>\n",
       "      <td>4.499695</td>\n",
       "    </tr>\n",
       "    <tr>\n",
       "      <th>1</th>\n",
       "      <td>Physical Group</td>\n",
       "      <td>4.395939</td>\n",
       "      <td>4.169038</td>\n",
       "      <td>4.622840</td>\n",
       "    </tr>\n",
       "    <tr>\n",
       "      <th>2</th>\n",
       "      <td>Online Communities</td>\n",
       "      <td>3.335025</td>\n",
       "      <td>3.081940</td>\n",
       "      <td>3.588111</td>\n",
       "    </tr>\n",
       "  </tbody>\n",
       "</table>\n",
       "</div>"
      ],
      "text/plain": [
       "         Dating style  Ease of finding dates    CI Low   CI High\n",
       "0         Dating Apps               4.274112  4.048528  4.499695\n",
       "1      Physical Group               4.395939  4.169038  4.622840\n",
       "2  Online Communities               3.335025  3.081940  3.588111"
      ]
     },
     "execution_count": 27,
     "metadata": {},
     "output_type": "execute_result"
    }
   ],
   "source": [
    "# create a new dictionary called d\n",
    "d = {\n",
    "    \"Dating style\": [\"Dating Apps\", \"Physical Group\", \"Online Communities\"],\n",
    "    \"Ease of finding dates\": [app_ease[0], physical_ease[0], online_ease[0]],\n",
    "    \"CI Low\": [app_ease[1], physical_ease[1], online_ease[1]],\n",
    "    \"CI High\": [app_ease[2], physical_ease[2], online_ease[2]]\n",
    "}\n",
    "\n",
    "means = pd.DataFrame(data=d)  # convert d into a data frame\n",
    "means"
   ]
  },
  {
   "cell_type": "markdown",
   "metadata": {},
   "source": [
    "### Visualizing the confidence interval in a graph\n"
   ]
  },
  {
   "cell_type": "code",
   "execution_count": 28,
   "metadata": {},
   "outputs": [
    {
     "data": {
      "text/plain": [
       "<seaborn.axisgrid.FacetGrid at 0x7f9e3ebc9940>"
      ]
     },
     "execution_count": 28,
     "metadata": {},
     "output_type": "execute_result"
    },
    {
     "data": {
      "image/png": "[encoded data removed]",
      "text/plain": [
       "<Figure size 500x500 with 1 Axes>"
      ]
     },
     "metadata": {},
     "output_type": "display_data"
    }
   ],
   "source": [
    "\n",
    "g = sns.catplot(\n",
    "    data=means, kind=\"bar\",\n",
    "    x=\"Dating style\", y=\"Ease of finding dates\",\n",
    "    ci=None, height=5, aspect=1,\n",
    ")\n",
    "\n",
    "# seaborn calls these error bars an we can use them to visualize our confidence interval\n",
    "yerr = [means[\"Ease of finding dates\"] - means['CI Low'], means['CI High'] - means[\"Ease of finding dates\"]]\n",
    "\n",
    "# add the error bar to our catplot\n",
    "plt.errorbar(y=means[\"Ease of finding dates\"], x=[0,1,2], yerr=yerr, fmt='none', c='black', capsize=4)\n",
    "\n",
    "# set labels\n",
    "g.set_axis_labels(\"Ease of Finding Dates (mean)\", \"Dating Style\")"
   ]
  },
  {
   "cell_type": "markdown",
   "metadata": {},
   "source": [
    "## Challenge Question 3 (1.5 points)\n",
    "In addition to three responses about the ease of finding dates, this data set contains questions about whether people are participating in the three activities more during Covid-19. These data are represented in the following columns:\n",
    "- `processed['covid_apps_more']`\n",
    "- `processed['covid_physical_more']`\n",
    "- `processed['covid_online_more']`\n",
    "\n",
    "Borrowing the code from above, calculate and visualize the confidence intervals for these three columns. You can visualize them either as a table or a bar chart. Add a comment about the implications of these findings."
   ]
  },
  {
   "cell_type": "code",
   "execution_count": 29,
   "metadata": {},
   "outputs": [
    {
     "data": {
      "text/html": [
       "<div>\n",
       "<style scoped>\n",
       "    .dataframe tbody tr th:only-of-type {\n",
       "        vertical-align: middle;\n",
       "    }\n",
       "\n",
       "    .dataframe tbody tr th {\n",
       "        vertical-align: top;\n",
       "    }\n",
       "\n",
       "    .dataframe thead th {\n",
       "        text-align: right;\n",
       "    }\n",
       "</style>\n",
       "<table border=\"1\" class=\"dataframe\">\n",
       "  <thead>\n",
       "    <tr style=\"text-align: right;\">\n",
       "      <th></th>\n",
       "      <th>Covid Dating style</th>\n",
       "      <th>Covid Ease of finding dates</th>\n",
       "      <th>CI Low</th>\n",
       "      <th>CI High</th>\n",
       "    </tr>\n",
       "  </thead>\n",
       "  <tbody>\n",
       "    <tr>\n",
       "      <th>0</th>\n",
       "      <td>Dating Apps</td>\n",
       "      <td>3.446701</td>\n",
       "      <td>3.184851</td>\n",
       "      <td>3.708550</td>\n",
       "    </tr>\n",
       "    <tr>\n",
       "      <th>1</th>\n",
       "      <td>Physical Group</td>\n",
       "      <td>2.390863</td>\n",
       "      <td>2.151058</td>\n",
       "      <td>2.630668</td>\n",
       "    </tr>\n",
       "    <tr>\n",
       "      <th>2</th>\n",
       "      <td>Online Communities</td>\n",
       "      <td>4.802030</td>\n",
       "      <td>4.562567</td>\n",
       "      <td>5.041494</td>\n",
       "    </tr>\n",
       "  </tbody>\n",
       "</table>\n",
       "</div>"
      ],
      "text/plain": [
       "   Covid Dating style  Covid Ease of finding dates    CI Low   CI High\n",
       "0         Dating Apps                     3.446701  3.184851  3.708550\n",
       "1      Physical Group                     2.390863  2.151058  2.630668\n",
       "2  Online Communities                     4.802030  4.562567  5.041494"
      ]
     },
     "execution_count": 29,
     "metadata": {},
     "output_type": "execute_result"
    }
   ],
   "source": [
    "covid_apps_more = mean_confidence_interval(processed['covid_apps_more'])\n",
    "covid_physical_more = mean_confidence_interval(processed['covid_physical_more'])\n",
    "covid_online_more = mean_confidence_interval(processed['covid_online_more'])\n",
    "\n",
    "e = {\n",
    "    \"Covid Dating style\": [\"Dating Apps\", \"Physical Group\", \"Online Communities\"],\n",
    "    \"Covid Ease of finding dates\": [covid_apps_more[0], covid_physical_more[0], covid_online_more[0]],\n",
    "    \"CI Low\": [covid_apps_more[1], covid_physical_more[1], covid_online_more[1]],\n",
    "    \"CI High\": [covid_apps_more[2], covid_physical_more[2], covid_online_more[2]]\n",
    "}\n",
    "\n",
    "means = pd.DataFrame(data=e)  # convert e into a data frame\n",
    "means"
   ]
  },
  {
   "cell_type": "code",
   "execution_count": 30,
   "metadata": {},
   "outputs": [
    {
     "data": {
      "text/plain": [
       "<seaborn.axisgrid.FacetGrid at 0x7f9e3ed58af0>"
      ]
     },
     "execution_count": 30,
     "metadata": {},
     "output_type": "execute_result"
    },
    {
     "data": {
      "image/png": "[encoded data removed]",
      "text/plain": [
       "<Figure size 500x500 with 1 Axes>"
      ]
     },
     "metadata": {},
     "output_type": "display_data"
    }
   ],
   "source": [
    "g = sns.catplot(\n",
    "    data=means, kind=\"bar\",\n",
    "    x=\"Covid Dating style\", y=\"Covid Ease of finding dates\",\n",
    "    ci=None, height=5, aspect=1,\n",
    ")\n",
    "\n",
    "# seaborn calls these error bars an we can use them to visualize our confidence interval\n",
    "yerr = [means[\"Covid Ease of finding dates\"] - means['CI Low'], means['CI High'] - means[\"Covid Ease of finding dates\"]]\n",
    "\n",
    "# add the error bar to our catplot\n",
    "plt.errorbar(y=means[\"Covid Ease of finding dates\"], x=[0,1,2], yerr=yerr, fmt='none', c='black', capsize=4)\n",
    "\n",
    "# set labels\n",
    "g.set_axis_labels(\"Covid Ease of Finding Dates (mean)\", \"Dating Style\")# Visualize confidence interval graph"
   ]
  },
  {
   "cell_type": "code",
   "execution_count": 31,
   "metadata": {},
   "outputs": [],
   "source": [
    "#Covid Dating Preferences\n",
    "\n",
    "# 'Ease of finding dates using dating apps' had a mean value of around 3.45\n",
    "# 'Ease of finding dates in physical groups' had a mean value of around 2.39\n",
    "# 'Ease of finding dates in online communities' had a mean value of around 4.80\n",
    "# Data would suggest online communities were the best form to find dates during covid followed by dating apps and lastly physical groups"
   ]
  },
  {
   "cell_type": "markdown",
   "metadata": {},
   "source": [
    "<h1> Regression Analysis </h1>\n",
    "\n",
    "There are two more topics in basic statistics that are worth discussing here. These are:\n",
    "- Correlation\n",
    "- Regression\n",
    "\n",
    "This section will highlight these two concepts interactively without bringing in more challenge questions. This will be useful for many of your final projects, as many students seem interested in investigating the relationships between variables. To demonstrate these things, we will explore the following research question:\n",
    "\n",
    "### RQ: Is there a relationship between perceived ease of finding dates and whether people report dating more during Covid-19? \n",
    "\n",
    "### Creating aggregated measures\n",
    "Psychologists often measure _constructs_ using multiple questionnaire items. In this case, we had three items which collected information on the `ease of finding dates`. We also had three items which denoted `doing more during covid`. We can combine the `ease` measures together to get a measure of `overall_ease` which roughly measures whether people perceive it as easy to find dates in general. Likewise `overall_covid_more` is a rough measure of whether people are dating more during the Covid-19 pandemic. With these combined measures, we can have a good understanding of whether there is a relationship between people's perceived ease of finding dates and whether they are more active during Covid-19."
   ]
  },
  {
   "cell_type": "code",
   "execution_count": 32,
   "metadata": {},
   "outputs": [],
   "source": [
    "processed['overall_ease'] = raw_data['Q13'] + raw_data['Q20'] + raw_data['Q27'] # adds a new overall_ease measure\n",
    "processed['overall_covid_more'] = raw_data['Q28'] + raw_data['Q29'] + raw_data['Q30'] # adds a new overall_covid_more measure"
   ]
  },
  {
   "cell_type": "code",
   "execution_count": 33,
   "metadata": {},
   "outputs": [],
   "source": [
    "processed = processed.dropna() # drop all participants who did not answer at least one question"
   ]
  },
  {
   "cell_type": "markdown",
   "metadata": {},
   "source": [
    "## Correlation\n",
    "Correlation describes a statistical common trend between two variables in either a positive or negative direction. One of the most important statistics for determining a possible relationship between two variables is called the `Pearson r`. The `r` (not to be confused with the R programming language) is a measure of statistical fit between two variables. At `r = 1`, as one variable increases, the other increases at the exact same amount. At `r=0` there is no relationship in the trend between the two variables.\n",
    "\n",
    "One of the best ways to illustrate a Pearson r is with a scatterplot. Execute the code below and you will see a visualization of the relationship between the `overall_ease` and `overall_covid_more`. "
   ]
  },
  {
   "cell_type": "code",
   "execution_count": 34,
   "metadata": {},
   "outputs": [
    {
     "data": {
      "text/plain": [
       "<AxesSubplot:xlabel='overall_covid_more', ylabel='overall_ease'>"
      ]
     },
     "execution_count": 34,
     "metadata": {},
     "output_type": "execute_result"
    },
    {
     "data": {
      "image/png": "[encoded data removed]",
      "text/plain": [
       "<Figure size 640x480 with 1 Axes>"
      ]
     },
     "metadata": {},
     "output_type": "display_data"
    }
   ],
   "source": [
    "sns.scatterplot(data=processed, x=\"overall_covid_more\", y=\"overall_ease\")"
   ]
  },
  {
   "cell_type": "code",
   "execution_count": 35,
   "metadata": {},
   "outputs": [
    {
     "data": {
      "text/plain": [
       "PearsonRResult(statistic=0.46592568458959654, pvalue=5.218077321898649e-12)"
      ]
     },
     "execution_count": 35,
     "metadata": {},
     "output_type": "execute_result"
    }
   ],
   "source": [
    "stats.pearsonr(processed['overall_ease'], processed['overall_covid_more'])"
   ]
  },
  {
   "cell_type": "markdown",
   "metadata": {},
   "source": [
    "Of course, correlation does not mean that there is causation. This is why scientific papers have discussion sections :)"
   ]
  },
  {
   "cell_type": "markdown",
   "metadata": {},
   "source": [
    "## Regression\n",
    "While correlation is a useful measure, we might wish to take it one step further. Similarly to correlations, `regression` is a measure of the relationship between two (or more) variables. Unlike correlation, this is a tool designed to measure a causal relationship. A simple linear regression is a way of measuring the significance of the impact of one variable on another. The `regplot` below demonstrates this concept."
   ]
  },
  {
   "cell_type": "code",
   "execution_count": 36,
   "metadata": {},
   "outputs": [
    {
     "data": {
      "image/png": "[encoded data removed]",
      "text/plain": [
       "<Figure size 640x480 with 1 Axes>"
      ]
     },
     "metadata": {},
     "output_type": "display_data"
    }
   ],
   "source": [
    "sns.regplot(x=\"overall_covid_more\", y=\"overall_ease\", data=processed);"
   ]
  },
  {
   "cell_type": "markdown",
   "metadata": {},
   "source": [
    "<h2> Measuring the impact </h2>\n",
    "\n",
    "This type of regression is simply a calculation of a straight line that best fits the Pearson correlation (known as ordinary least squares). Essentially, it quantifies the size of the calculated impact of overall_ease on overall_covid_more. By observing this relationship we have addressed our research question. The answer is possibly. At least, the statistics show evidence for this... a deeper investigation might be warranted though because there are many possible explanations for this observation!\n",
    "\n",
    "The code below determines the results of a linear regression between these two variables. The results show that the relationship has a significant p-value, and could reflect a real relationship."
   ]
  },
  {
   "cell_type": "code",
   "execution_count": 37,
   "metadata": {},
   "outputs": [
    {
     "data": {
      "text/plain": [
       "LinregressResult(slope=0.4719036166073679, intercept=4.974355059510533, rvalue=0.46592568458959677, pvalue=5.218077321897272e-12, stderr=0.0641765211535532, intercept_stderr=0.8095967523158525)"
      ]
     },
     "execution_count": 37,
     "metadata": {},
     "output_type": "execute_result"
    }
   ],
   "source": [
    "stats.linregress(x=processed[\"overall_ease\"], y=processed[\"overall_covid_more\"])"
   ]
  },
  {
   "cell_type": "markdown",
   "metadata": {},
   "source": [
    "<h2> Challenge Question 5 </h2>\n",
    "\n",
    "Write your observations on the findings "
   ]
  },
  {
   "cell_type": "code",
   "execution_count": 38,
   "metadata": {},
   "outputs": [],
   "source": [
    "# According to the findings above, there seems to be a moderate relationship between perceived ease of finding dates and whether people report dating more during Covid-19\n",
    "# Since the slope is 0.47, it is reasonable to deem this as a 'moderate correlation' between the two variables.\n",
    "# A pvalue of 5.21 is much higher than 0.01 and might reflect a real relationship between the two variables.\n",
    "# Correlation, however, does not equal causation. Further analysis might be needed to make further comments."
   ]
  },
  {
   "cell_type": "markdown",
   "metadata": {},
   "source": [
    "## References\n",
    "\n",
    "Cumming, G., & Calin-Jageman, R. (2016). Introduction to the new statistics: Estimation, open science, and beyond. Routledge.\n",
    "\n",
    "Diaz, G. O., and Conrad, C. (working paper). Social presence and trust influence the perceived ease of finding dates in online communities during Covid-19. \n",
    "\n",
    "gcamargo (August 6 2018). Compute a confidence interval from sample data. _Stack Overflow_. https://stackoverflow.com/questions/15033511/compute-a-confidence-interval-from-sample-data\n",
    "\n",
    "Khanacademy. Statistics and Probability. https://www.khanacademy.org/math/statistics-probability\n",
    "\n",
    "Virtanen, P., Gommers, R., Oliphant, T. E., Haberland, M., Reddy, T., Cournapeau, D., ... & van Mulbregt, P. (2020). SciPy 1.0: fundamental algorithms for scientific computing in Python. Nature methods, 17(3), 261-272."
   ]
  }
 ],
 "metadata": {
  "kernelspec": {
   "display_name": "Python 3 (ipykernel)",
   "language": "python",
   "name": "python3"
  },
  "language_info": {
   "codemirror_mode": {
    "name": "ipython",
    "version": 3
   },
   "file_extension": ".py",
   "mimetype": "text/x-python",
   "name": "python",
   "nbconvert_exporter": "python",
   "pygments_lexer": "ipython3",
   "version": "3.9.13"
  }
 },
 "nbformat": 4,
 "nbformat_minor": 4
}
