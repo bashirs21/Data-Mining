{
 "cells": [
  {
   "cell_type": "code",
   "execution_count": null,
   "id": "76a445ed-9312-485a-8217-1d6c72c2e48d",
   "metadata": {},
   "outputs": [],
   "source": [
    "CONSUMER_KEY = \"XaOGWguQIvmEF2c9Vsd1wIeMS\"\n",
    "CONSUMER_SECRET_KEY = \"NS3UXAyL1uRp3UOoWgwl77MElCGHcs6ku4YPXt9befKMEYTavF\"\n",
    "ACCESS_TOKEN = \"1260624810331209728-PO5Xt0njCoLHhdsgYuBByblzatLqTW\"\n",
    "ACCESS_TOKEN_SECRET_KEY = \"8oatlizi907UaD2oyelHCF0ttXxV3jRypjknblBDmIO9N\""
   ]
  }
 ],
 "metadata": {
  "kernelspec": {
   "display_name": "Python 3 (ipykernel)",
   "language": "python",
   "name": "python3"
  },
  "language_info": {
   "codemirror_mode": {
    "name": "ipython",
    "version": 3
   },
   "file_extension": ".py",
   "mimetype": "text/x-python",
   "name": "python",
   "nbconvert_exporter": "python",
   "pygments_lexer": "ipython3",
   "version": "3.9.13"
  }
 },
 "nbformat": 4,
 "nbformat_minor": 5
}
